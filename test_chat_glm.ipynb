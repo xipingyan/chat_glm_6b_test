{
 "cells": [
  {
   "cell_type": "code",
   "execution_count": 1,
   "id": "99ce74cc",
   "metadata": {},
   "outputs": [
    {
     "name": "stderr",
     "output_type": "stream",
     "text": [
      "/home/xiping_dev/mygithub/chatglm/python-env-gpu/lib/python3.8/site-packages/tqdm/auto.py:21: TqdmWarning: IProgress not found. Please update jupyter and ipywidgets. See https://ipywidgets.readthedocs.io/en/stable/user_install.html\n",
      "  from .autonotebook import tqdm as notebook_tqdm\n"
     ]
    }
   ],
   "source": [
    "from transformers import AutoTokenizer, AutoModel\n",
    "# tokenizer = AutoTokenizer.from_pretrained(\"THUDM/chatglm-6b\", trust_remote_code=True)\n",
    "# model = AutoModel.from_pretrained(\"THUDM/chatglm-6b\", trust_remote_code=True).half().cuda()\n",
    "# tokenizer.save_pretrained(\"./local_chat_glm_6b_model\")\n",
    "# model.save_pretrained(\"./local_chat_glm_6b_model\")\n",
    "# model = AutoModel.from_pretrained(\"THUDM/chatglm-6b\", trust_remote_code=True).quantize(8).half().cuda()"
   ]
  },
  {
   "cell_type": "code",
   "execution_count": 2,
   "id": "3793b21e",
   "metadata": {},
   "outputs": [
    {
     "name": "stderr",
     "output_type": "stream",
     "text": [
      "Explicitly passing a `revision` is encouraged when loading a model with custom code to ensure no malicious code has been contributed in a newer revision.\n",
      "Explicitly passing a `revision` is encouraged when loading a configuration with custom code to ensure no malicious code has been contributed in a newer revision.\n",
      "Explicitly passing a `revision` is encouraged when loading a model with custom code to ensure no malicious code has been contributed in a newer revision.\n",
      "Loading checkpoint shards: 100%|██████████████████████████████████████████████████████████████████████| 2/2 [00:07<00:00,  3.51s/it]\n"
     ]
    }
   ],
   "source": [
    "tokenizer = AutoTokenizer.from_pretrained(\"./local_chat_glm_6b_model\", trust_remote_code=True)\n",
    "model = AutoModel.from_pretrained(\"./local_chat_glm_6b_model\", trust_remote_code=True).half().cuda()"
   ]
  },
  {
   "cell_type": "code",
   "execution_count": 3,
   "id": "2b33e22f",
   "metadata": {},
   "outputs": [
    {
     "name": "stderr",
     "output_type": "stream",
     "text": [
      "The dtype of attention mask (torch.int64) is not bool\n"
     ]
    },
    {
     "name": "stdout",
     "output_type": "stream",
     "text": [
      "你好👋！我是人工智能助手 ChatGLM-6B，很高兴见到你，欢迎问我任何问题。\n"
     ]
    }
   ],
   "source": [
    "response, history = model.chat(tokenizer, \"你好\", history=[])\n",
    "print(response)"
   ]
  },
  {
   "cell_type": "code",
   "execution_count": 4,
   "id": "1d07b242",
   "metadata": {},
   "outputs": [
    {
     "name": "stdout",
     "output_type": "stream",
     "text": [
      "晚上睡不着可能会让人感到焦虑和不安。以下是一些可能有用的建议，帮助在晚上入睡：\n",
      "\n",
      "1. 放松身体和头脑：尝试进行深呼吸、渐进性肌肉放松或冥想等放松技巧，以缓解身体的紧张和头脑的兴奋。\n",
      "\n",
      "2. 创建一个舒适的睡眠环境：保持房间安静、凉爽、黑暗和舒适，以帮助入睡。\n",
      "\n",
      "3. 创建一个固定的睡眠时间表：让身体习惯在固定的时间和地点入睡和起床，以帮助调节身体的生物钟。\n",
      "\n",
      "4. 避免饮用刺激性饮料和食物：如咖啡、茶和可乐等，这些饮料和食物可能会影响睡眠。\n",
      "\n",
      "5. 避免使用电子设备：如手机、电脑和电视等，这些设备会发出蓝光，干扰身体释放褪黑素，从而影响睡眠。\n",
      "\n",
      "6. 尝试一些放松技巧：如读书、听音乐或做瑜伽等，这些放松技巧可能会帮助入睡。\n",
      "\n",
      "如果这些方法不能帮助入睡，建议咨询医生或睡眠专家，获取更专业的建议和帮助。\n"
     ]
    }
   ],
   "source": [
    "response, history = model.chat(tokenizer, \"晚上睡不着应该怎么办\", history=history)\n",
    "print(response)"
   ]
  },
  {
   "cell_type": "code",
   "execution_count": null,
   "id": "d7d69133",
   "metadata": {},
   "outputs": [],
   "source": []
  }
 ],
 "metadata": {
  "kernelspec": {
   "display_name": "Python 3 (ipykernel)",
   "language": "python",
   "name": "python3"
  },
  "language_info": {
   "codemirror_mode": {
    "name": "ipython",
    "version": 3
   },
   "file_extension": ".py",
   "mimetype": "text/x-python",
   "name": "python",
   "nbconvert_exporter": "python",
   "pygments_lexer": "ipython3",
   "version": "3.8.10"
  }
 },
 "nbformat": 4,
 "nbformat_minor": 5
}
